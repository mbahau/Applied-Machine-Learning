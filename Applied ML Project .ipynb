{
    "cells": [
        {
            "metadata": {},
            "cell_type": "code",
            "source": "import pandas as pd\nimport numpy as np",
            "execution_count": 1,
            "outputs": []
        },
        {
            "metadata": {},
            "cell_type": "code",
            "source": "for i in range(1,100):\n    print('Hi there ...')",
            "execution_count": 2,
            "outputs": [
                {
                    "output_type": "stream",
                    "text": "Hi there ...\nHi there ...\nHi there ...\nHi there ...\nHi there ...\nHi there ...\nHi there ...\nHi there ...\nHi there ...\nHi there ...\nHi there ...\nHi there ...\nHi there ...\nHi there ...\nHi there ...\nHi there ...\nHi there ...\nHi there ...\nHi there ...\nHi there ...\nHi there ...\nHi there ...\nHi there ...\nHi there ...\nHi there ...\nHi there ...\nHi there ...\nHi there ...\nHi there ...\nHi there ...\nHi there ...\nHi there ...\nHi there ...\nHi there ...\nHi there ...\nHi there ...\nHi there ...\nHi there ...\nHi there ...\nHi there ...\nHi there ...\nHi there ...\nHi there ...\nHi there ...\nHi there ...\nHi there ...\nHi there ...\nHi there ...\nHi there ...\nHi there ...\nHi there ...\nHi there ...\nHi there ...\nHi there ...\nHi there ...\nHi there ...\nHi there ...\nHi there ...\nHi there ...\nHi there ...\nHi there ...\nHi there ...\nHi there ...\nHi there ...\nHi there ...\nHi there ...\nHi there ...\nHi there ...\nHi there ...\nHi there ...\nHi there ...\nHi there ...\nHi there ...\nHi there ...\nHi there ...\nHi there ...\nHi there ...\nHi there ...\nHi there ...\nHi there ...\nHi there ...\nHi there ...\nHi there ...\nHi there ...\nHi there ...\nHi there ...\nHi there ...\nHi there ...\nHi there ...\nHi there ...\nHi there ...\nHi there ...\nHi there ...\nHi there ...\nHi there ...\nHi there ...\nHi there ...\nHi there ...\nHi there ...\n",
                    "name": "stdout"
                }
            ]
        },
        {
            "metadata": {},
            "cell_type": "code",
            "source": "",
            "execution_count": null,
            "outputs": []
        }
    ],
    "metadata": {
        "kernelspec": {
            "name": "python3",
            "display_name": "Python 3.9",
            "language": "python"
        },
        "language_info": {
            "name": "python",
            "version": "3.9.7",
            "mimetype": "text/x-python",
            "codemirror_mode": {
                "name": "ipython",
                "version": 3
            },
            "pygments_lexer": "ipython3",
            "nbconvert_exporter": "python",
            "file_extension": ".py"
        }
    },
    "nbformat": 4,
    "nbformat_minor": 1
}